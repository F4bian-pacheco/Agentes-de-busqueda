{
 "cells": [
  {
   "cell_type": "code",
   "execution_count": 10,
   "metadata": {},
   "outputs": [],
   "source": [
    "from heapq import heappush, heappop\n",
    "import numpy as np\n",
    "import sys\n",
    "\n",
    "\n",
    "class puzzle(object):\n",
    "\n",
    "    def __init__(self, node, level):\n",
    "        self.state = node\n",
    "        self.level = level\n",
    "\n",
    "    def __hash__(self):\n",
    "        return hash(np.array_str(self.state.ravel()))\n",
    "\n",
    "    def __eq__(self, other):\n",
    "        return np.array_equal(other.state, self.state)\n",
    "\n",
    "    def __gt__(self, other):\n",
    "        return self.level > other.level\n",
    "\n",
    "    def __lt__(self, other):\n",
    "        return self.level < other.level\n",
    "\n",
    "    def pretty_print(self):\n",
    "        return np.array_str(self.state.ravel())\n",
    "\n",
    "    def solvable(self):\n",
    "        return len([(a, b) for i, a in enumerate(self.state.ravel()) for b in self.state.ravel()[i:] if a > b & b != 0]) % 2 == 0\n",
    "\n",
    "    def get_children(self):\n",
    "        child_list = set()\n",
    "        dim = self.state.shape[0]\n",
    "        i, j = map(int, np.where(self.state == 0))\n",
    "        # print i,j\n",
    "        if (j > 0):\n",
    "            child = self.state.copy()\n",
    "            child[i, j] = self.state[i, j-1]\n",
    "            child[i, j-1] = 0\n",
    "            p = puzzle(child, self.level+1)\n",
    "            child_list.add(p)\n",
    "        if (j < dim-1):\n",
    "            child = self.state.copy()\n",
    "            child[i, j] = self.state[i, j+1]\n",
    "            child[i, j+1] = 0\n",
    "            p = puzzle(child, self.level+1)\n",
    "            child_list.add(p)\n",
    "        if (i > 0):\n",
    "            child = self.state.copy()\n",
    "            child[i, j] = self.state[i-1, j]\n",
    "            child[i-1, j] = 0\n",
    "            p = puzzle(child, self.level+1)\n",
    "            child_list.add(p)\n",
    "        if (i < dim-1):\n",
    "            child = self.state.copy()\n",
    "            child[i, j] = self.state[i+1, j]\n",
    "            child[i+1, j] = 0\n",
    "            p = puzzle(child, self.level+1)\n",
    "            child_list.add(p)\n",
    "        return child_list\n"
   ]
  },
  {
   "cell_type": "code",
   "execution_count": 9,
   "metadata": {},
   "outputs": [],
   "source": [
    "def get_random(dim):\n",
    "    \"\"\"\n",
    "    It creates a random puzzle, and if it's not solvable, it creates another one until it finds one that\n",
    "    is solvable\n",
    "\n",
    "    :param dim: The dimension of the puzzle\n",
    "    :return: A random puzzle that is solvable.\n",
    "    \"\"\"\n",
    "    while True:\n",
    "        random_start = puzzle(np.random.permutation(\n",
    "            np.arange(9)).reshape(dim, dim), 0)\n",
    "        if random_start.solvable():\n",
    "            break\n",
    "    return random_start"
   ]
  },
  {
   "cell_type": "code",
   "execution_count": 62,
   "metadata": {},
   "outputs": [],
   "source": [
    "dim=3\n",
    "\n",
    "goal=puzzle(np.insert(np.arange(1,dim*dim),dim*dim-1,0).reshape(dim,dim),0)\n",
    "\n",
    "easy_start=puzzle(np.insert(np.arange(1,dim*dim),6,0).reshape(dim,dim),0)\n",
    "\n",
    "hard = np.array([[1, 2, 3], [0, 4, 5], [6, 7, 8]])\n",
    "hard_puzzle = puzzle(hard, 0)\n",
    "\n",
    "random_puzzle = get_random(dim)"
   ]
  },
  {
   "cell_type": "code",
   "execution_count": null,
   "metadata": {},
   "outputs": [],
   "source": [
    "print('nodo objetivo : ')\n",
    "print(goal.state)\n",
    "print('nodo inicial : ')\n",
    "print(random_puzzle.state)\n",
    "print('hijos : ')\n",
    "for p in random_puzzle.get_children():\n",
    "    print('Estado padre, nivel : {0}'.format(p.level))\n",
    "    print(p.state)\n",
    "    for c in p.get_children():\n",
    "        print('Estado hijo, nivel : {0}'.format(c.level))\n",
    "        print(c.state)"
   ]
  },
  {
   "cell_type": "code",
   "execution_count": 46,
   "metadata": {},
   "outputs": [],
   "source": [
    "from collections import deque\n",
    "\n",
    "class bfs_puzzle():\n",
    "    \n",
    "    def __init__(self,start):\n",
    "        self.state=start\n",
    "            \n",
    "    def is_goal(self,node,goal):\n",
    "        return node==goal\n",
    "    \n",
    "    def get_children(self,node):\n",
    "        return node.get_children()\n",
    "    \n",
    "    def search(self,goal):\n",
    "        parents={}\n",
    "        visited=set()\n",
    "        parents.update({self.state:None})\n",
    "        frontier=deque() # queue\n",
    "        frontier.append(self.state)\n",
    "        while frontier:\n",
    "            node=frontier.popleft() # FIFO\n",
    "            if self.is_goal(node,goal):\n",
    "                return parents\n",
    "            visited.add(node)\n",
    "            for child in self.get_children(node):\n",
    "                if child not in visited and child not in frontier:\n",
    "                    parents.update({child:node})\n",
    "                    frontier.append(child)\n",
    "        return parents\n",
    "    \n",
    "class ids_puzzle():\n",
    "    \n",
    "    def __init__(self,start):\n",
    "        self.state=start\n",
    "            \n",
    "    def is_goal(self,node,goal):\n",
    "        return node==goal\n",
    "    \n",
    "    def get_children(self,node):\n",
    "        return node.get_children()\n",
    "    \n",
    "    def search(self,goal,bound):\n",
    "        parents={}\n",
    "        visited=set()\n",
    "        parents.update({self.state:None})\n",
    "        frontier=deque() # stack\n",
    "        frontier.append(self.state)\n",
    "        while frontier:\n",
    "            node=frontier.pop() # LIFO\n",
    "            if self.is_goal(node,goal):\n",
    "                return parents\n",
    "            visited.add(node)\n",
    "            if node.level<bound:\n",
    "                for child in self.get_children(node):\n",
    "                    if child not in visited and child not in frontier:\n",
    "                        parents.update({child:node})\n",
    "                        frontier.append(child)\n",
    "        return parents\n",
    "    "
   ]
  },
  {
   "cell_type": "code",
   "execution_count": 18,
   "metadata": {},
   "outputs": [],
   "source": [
    "class bestfirst_puzzle():\n",
    "    \n",
    "    def __init__(self,start,heuristic):\n",
    "        self.state=start\n",
    "        self.heuristic=heuristic\n",
    "            \n",
    "    def is_goal(self,node,goal):\n",
    "        return node==goal\n",
    "    \n",
    "    def get_children(self,node):\n",
    "        return node.get_children()\n",
    "    \n",
    "    def search(self,goal):\n",
    "        parents={}\n",
    "        visited=set()\n",
    "        parents.update({self.state:None})\n",
    "        frontier=[]\n",
    "        fun=self.heuristic(self.state,goal)\n",
    "        heappush(frontier,(fun,self.state))\n",
    "        while frontier:\n",
    "            node=heappop(frontier)[1]\n",
    "            if self.is_goal(node,goal):\n",
    "                return parents,len(frontier),node.level\n",
    "            visited.add(node)\n",
    "            for child in self.get_children(node):\n",
    "                if child not in visited:\n",
    "                    parents.update({child:node})\n",
    "                    fun=self.heuristic(child,goal)\n",
    "                    heappush(frontier,(fun,child))\n",
    "        return parents,len(frontier),node.level\n",
    "\n",
    "class astar_puzzle():\n",
    "    \n",
    "    def __init__(self,start,heuristic):\n",
    "        self.state=start\n",
    "        self.heuristic=heuristic\n",
    "            \n",
    "    def is_goal(self,node,goal):\n",
    "        return node==goal\n",
    "    \n",
    "    def get_children(self,node):\n",
    "        return node.get_children()\n",
    "    \n",
    "    def search(self,goal):\n",
    "        parents={}\n",
    "        visited=set()\n",
    "        parents.update({self.state:None})\n",
    "        frontier=[]\n",
    "        fun=self.heuristic(self.state,goal)+self.state.level\n",
    "        heappush(frontier,(fun,self.state))\n",
    "        while frontier:\n",
    "            node=heappop(frontier)[1]\n",
    "            if self.is_goal(node,goal):\n",
    "                return parents,len(frontier),node.level\n",
    "            visited.add(node)\n",
    "            for child in self.get_children(node):\n",
    "                if child not in visited:\n",
    "                    parents.update({child:node})\n",
    "                    fun=self.heuristic(child,goal)+child.level\n",
    "                    heappush(frontier,(fun,child))\n",
    "        return parents,len(frontier),node.level"
   ]
  },
  {
   "cell_type": "code",
   "execution_count": 74,
   "metadata": {},
   "outputs": [],
   "source": [
    "def get_path(search_results,goal):\n",
    "    path=[key  for (key, value) in search_results.items() if key == goal]\n",
    "    node=goal\n",
    "    while search_results[node] is not None:\n",
    "        parent=search_results[node]\n",
    "        path.append(parent)\n",
    "        node=parent\n",
    "    return path"
   ]
  },
  {
   "cell_type": "markdown",
   "metadata": {},
   "source": [
    "### Tiempo\n",
    "\n",
    "* BFS"
   ]
  },
  {
   "cell_type": "code",
   "execution_count": 108,
   "metadata": {},
   "outputs": [],
   "source": [
    "from time import time\n",
    "\n",
    "def time_decorator(func):\n",
    "    def wrapper(*args, **kwargs):\n",
    "        lista_tiempo = []\n",
    "        veces = 50\n",
    "        for i in range(veces):\n",
    "            time_start = time()\n",
    "            a = func(*args, **kwargs)\n",
    "            time_end = time()\n",
    "            lista_tiempo.append(time_end - time_start)\n",
    "        print('Tiempo medio de ejecución: ', sum(lista_tiempo)/veces)\n",
    "        if isinstance(a, int):\n",
    "            print(\"cota maxima: \", a)\n",
    "    return wrapper"
   ]
  },
  {
   "cell_type": "code",
   "execution_count": 106,
   "metadata": {},
   "outputs": [],
   "source": [
    "@time_decorator\n",
    "def run_bfs():\n",
    "    bfs_tree = bfs_puzzle(hard_puzzle).search(goal)\n",
    "    return bfs_tree\n",
    "\n",
    "@time_decorator\n",
    "def run_ids():\n",
    "    bound=10\n",
    "    ids_tree =ids_puzzle(easy_start).search(goal,bound)\n",
    "    return ids_tree\n",
    "\n",
    "@time_decorator\n",
    "def run_ids_bounds():\n",
    "    ids_tree={}\n",
    "    c=1\n",
    "    while goal not in ids_tree:\n",
    "        ids_tree=ids_puzzle(random_puzzle).search(goal,bound=c)\n",
    "        c=c+1\n",
    "    return c"
   ]
  },
  {
   "cell_type": "code",
   "execution_count": null,
   "metadata": {},
   "outputs": [],
   "source": [
    "run_bfs()"
   ]
  },
  {
   "cell_type": "markdown",
   "metadata": {},
   "source": [
    "* IDS"
   ]
  },
  {
   "cell_type": "code",
   "execution_count": 107,
   "metadata": {},
   "outputs": [
    {
     "name": "stdout",
     "output_type": "stream",
     "text": [
      "Tiempo medio de ejecución:  142.9375433921814\n",
      "cota maxima:  32\n"
     ]
    }
   ],
   "source": [
    "run_ids_bounds()\n"
   ]
  },
  {
   "cell_type": "markdown",
   "metadata": {},
   "source": [
    "# Heuristicas"
   ]
  },
  {
   "cell_type": "code",
   "execution_count": 109,
   "metadata": {},
   "outputs": [],
   "source": [
    "def manhattan(node,goal):\n",
    "    dim=node.state.shape[0]\n",
    "    diff_mat=np.zeros((dim,dim))\n",
    "    for i in range(dim):\n",
    "        for j in range(dim):\n",
    "            if goal.state[i,j]!=0:\n",
    "                u,v=map(int,np.where(node.state==goal.state[i,j]))\n",
    "                diff_mat[i,j]=abs(i-u)+abs(j-v)\n",
    "    return int(diff_mat.sum())\n",
    "\n",
    "def hamming(node,goal):\n",
    "    dim=node.state.shape[0]\n",
    "    diff_mat=np.zeros((dim,dim))\n",
    "    diff_mat=node.state!=goal.state\n",
    "    dist=np.sum(diff_mat.astype(int).ravel())\n",
    "    if dist>0:\n",
    "        dist=dist-1\n",
    "    return dist"
   ]
  },
  {
   "cell_type": "markdown",
   "metadata": {},
   "source": [
    "* Best First"
   ]
  },
  {
   "cell_type": "markdown",
   "metadata": {},
   "source": [
    "##### Hamming"
   ]
  },
  {
   "cell_type": "code",
   "execution_count": 118,
   "metadata": {},
   "outputs": [],
   "source": [
    "@time_decorator\n",
    "def run_bf_hamming():\n",
    "    bfs_tree = bestfirst_puzzle(hard_puzzle, hamming).search(goal)\n",
    "    return bfs_tree"
   ]
  },
  {
   "cell_type": "code",
   "execution_count": 119,
   "metadata": {},
   "outputs": [
    {
     "name": "stdout",
     "output_type": "stream",
     "text": [
      "Tiempo medio de ejecución:  0.125242018699646\n"
     ]
    }
   ],
   "source": [
    "run_bf_hamming()"
   ]
  },
  {
   "cell_type": "markdown",
   "metadata": {},
   "source": [
    "#### Manhattan"
   ]
  },
  {
   "cell_type": "code",
   "execution_count": 125,
   "metadata": {},
   "outputs": [],
   "source": [
    "@time_decorator\n",
    "def run_bf_manhattan():\n",
    "    bfs_tree = bestfirst_puzzle(random_puzzle, manhattan).search(goal)\n",
    "    return bfs_tree"
   ]
  },
  {
   "cell_type": "code",
   "execution_count": 126,
   "metadata": {},
   "outputs": [
    {
     "name": "stdout",
     "output_type": "stream",
     "text": [
      "Tiempo medio de ejecución:  0.051157259941101076\n"
     ]
    }
   ],
   "source": [
    "run_bf_manhattan()"
   ]
  },
  {
   "cell_type": "markdown",
   "metadata": {},
   "source": [
    "* A*"
   ]
  },
  {
   "cell_type": "markdown",
   "metadata": {},
   "source": [
    "##### Hamming"
   ]
  },
  {
   "cell_type": "code",
   "execution_count": 140,
   "metadata": {},
   "outputs": [],
   "source": [
    "@time_decorator\n",
    "def run_astar_hamming():\n",
    "    bfs_tree = astar_puzzle(random_puzzle, hamming).search(goal)\n",
    "    return bfs_tree"
   ]
  },
  {
   "cell_type": "code",
   "execution_count": 141,
   "metadata": {},
   "outputs": [
    {
     "name": "stdout",
     "output_type": "stream",
     "text": [
      "Tiempo medio de ejecución:  4.191729116439819\n"
     ]
    }
   ],
   "source": [
    "run_astar_hamming()"
   ]
  },
  {
   "cell_type": "markdown",
   "metadata": {},
   "source": [
    "##### Manhatttan"
   ]
  },
  {
   "cell_type": "code",
   "execution_count": 146,
   "metadata": {},
   "outputs": [],
   "source": [
    "@time_decorator\n",
    "def run_astar_manhattan():\n",
    "    bfs_tree = astar_puzzle(random_puzzle, manhattan).search(goal)\n",
    "    return bfs_tree"
   ]
  },
  {
   "cell_type": "code",
   "execution_count": 147,
   "metadata": {},
   "outputs": [
    {
     "name": "stdout",
     "output_type": "stream",
     "text": [
      "Tiempo medio de ejecución:  0.309868803024292\n"
     ]
    }
   ],
   "source": [
    "run_astar_manhattan()"
   ]
  },
  {
   "cell_type": "markdown",
   "metadata": {},
   "source": [
    "### Memoria"
   ]
  },
  {
   "cell_type": "markdown",
   "metadata": {},
   "source": [
    "* BFS"
   ]
  },
  {
   "cell_type": "code",
   "execution_count": 97,
   "metadata": {},
   "outputs": [
    {
     "name": "stdout",
     "output_type": "stream",
     "text": [
      "16\n",
      "BFS memoria : 576.09 [kB]\n"
     ]
    }
   ],
   "source": [
    "bfs_tree = bfs_puzzle(hard_puzzle).search(goal)\n",
    "path = get_path(bfs_tree, goal)\n",
    "print(len(path))\n",
    "# for p in path:\n",
    "#     print('-------------------------')\n",
    "#     print('nivel : {0}'.format(p.level))\n",
    "#     print(p.state)\n",
    "\n",
    "print('BFS memoria : {0:.2f} [kB]'.format(sys.getsizeof(bfs_tree)/1024))\n"
   ]
  },
  {
   "cell_type": "markdown",
   "metadata": {},
   "source": [
    "* IDS"
   ]
  },
  {
   "cell_type": "code",
   "execution_count": 113,
   "metadata": {},
   "outputs": [
    {
     "name": "stdout",
     "output_type": "stream",
     "text": [
      "cota :3, memoria : 0.35 [kB]\n"
     ]
    }
   ],
   "source": [
    "ids_tree={}\n",
    "c=1\n",
    "while goal not in ids_tree:\n",
    "    ids_tree=ids_puzzle(easy_start).search(goal,bound=c)\n",
    "    c=c+1\n",
    "print('cota :{0}, memoria : {1:.2f} [kB]'.format(c,sys.getsizeof(ids_tree)/1024))\n"
   ]
  },
  {
   "cell_type": "markdown",
   "metadata": {},
   "source": [
    "## Best First\n",
    "* Hamming"
   ]
  },
  {
   "cell_type": "code",
   "execution_count": 120,
   "metadata": {},
   "outputs": [
    {
     "name": "stdout",
     "output_type": "stream",
     "text": [
      "Best-First memoria (Hamming): 36.09 [kB]\n"
     ]
    }
   ],
   "source": [
    "solver = bestfirst_puzzle(random_puzzle, hamming)\n",
    "bf_tree, k, h = solver.search(goal)\n",
    "path = get_path(bf_tree, goal)\n",
    "\n",
    "# print(bf_tree[goal].level)\n",
    "# for p in get_path(bf_tree, goal):\n",
    "#     print('-------------------------')\n",
    "#     print('nivel : {0}'.format(p.level))\n",
    "#     print(p.state)\n",
    "\n",
    "print('Best-First memoria (Hamming): {0:.2f} [kB]'.format(sys.getsizeof(bf_tree)/1024))\n"
   ]
  },
  {
   "cell_type": "markdown",
   "metadata": {},
   "source": [
    "* Manhattan"
   ]
  },
  {
   "cell_type": "code",
   "execution_count": 129,
   "metadata": {},
   "outputs": [
    {
     "name": "stdout",
     "output_type": "stream",
     "text": [
      "Best-First memoria (Manhattan): 4.59 [kB]\n"
     ]
    }
   ],
   "source": [
    "solver = bestfirst_puzzle(random_puzzle, manhattan)\n",
    "bf_tree, k, h = solver.search(goal)\n",
    "path = get_path(bf_tree, goal)\n",
    "\n",
    "# print(bf_tree[goal].level)\n",
    "# for p in get_path(bf_tree, goal):\n",
    "#     print('-------------------------')\n",
    "#     print('nivel : {0}'.format(p.level))\n",
    "#     print(p.state)\n",
    "\n",
    "print('Best-First memoria (Manhattan): {0:.2f} [kB]'.format(sys.getsizeof(bf_tree)/1024))"
   ]
  },
  {
   "cell_type": "markdown",
   "metadata": {},
   "source": [
    "### A*\n",
    "* Hamming"
   ]
  },
  {
   "cell_type": "code",
   "execution_count": 132,
   "metadata": {},
   "outputs": [
    {
     "name": "stdout",
     "output_type": "stream",
     "text": [
      "A-Star Manhattan memoria : 288.09 [kB]\n"
     ]
    }
   ],
   "source": [
    "astar_solver=astar_puzzle(random_puzzle,hamming)\n",
    "astar_tree,k,h=astar_solver.search(goal)\n",
    "path=get_path(astar_tree,goal)\n",
    "print('A-Star Manhattan memoria : {0:.2f} [kB]'.format(sys.getsizeof(astar_tree)/1024))"
   ]
  },
  {
   "cell_type": "markdown",
   "metadata": {},
   "source": [
    "* Manhattan"
   ]
  },
  {
   "cell_type": "code",
   "execution_count": 135,
   "metadata": {},
   "outputs": [
    {
     "name": "stdout",
     "output_type": "stream",
     "text": [
      "A-Star Manhattan memoria : 18.09 [kB]\n"
     ]
    }
   ],
   "source": [
    "astar_solver=astar_puzzle(random_puzzle,manhattan)\n",
    "astar_tree,k,h=astar_solver.search(goal)\n",
    "path=get_path(astar_tree,goal)\n",
    "\n",
    "print('A-Star Manhattan memoria : {0:.2f} [kB]'.format(sys.getsizeof(astar_tree)/1024))"
   ]
  }
 ],
 "metadata": {
  "kernelspec": {
   "display_name": "Python 3.9.1 64-bit",
   "language": "python",
   "name": "python3"
  },
  "language_info": {
   "codemirror_mode": {
    "name": "ipython",
    "version": 3
   },
   "file_extension": ".py",
   "mimetype": "text/x-python",
   "name": "python",
   "nbconvert_exporter": "python",
   "pygments_lexer": "ipython3",
   "version": "3.9.1"
  },
  "orig_nbformat": 4,
  "vscode": {
   "interpreter": {
    "hash": "dacd0b08e66b73fb0f1ba7f8ac3fa423d6ca3523ed74657c16e7fe650626d020"
   }
  }
 },
 "nbformat": 4,
 "nbformat_minor": 2
}
